{
 "cells": [
  {
   "cell_type": "markdown",
   "metadata": {},
   "source": [
    "### Get a resume in pdf format"
   ]
  },
  {
   "cell_type": "code",
   "execution_count": 76,
   "metadata": {},
   "outputs": [],
   "source": [
    "from __future__ import unicode_literals\n",
    "from gensim.summarization import keywords\n",
    "import pandas as pd\n",
    "\n",
    "import nltk\n",
    "import string\n",
    "import matplotlib.pyplot as plt\n",
    "from nltk.stem.porter import PorterStemmer\n",
    "import unicodedata\n",
    "import math\n",
    "import bytes\n",
    "import os\n",
    "\n",
    "\n",
    "import gensim\n",
    "from gensim.models import Word2Vec\n",
    "import logging\n",
    "\n",
    "os.chdir(r\"C:\\Users\\khans\\Insight\\Resume-Job-Description-Matching-master\\Resume-Job-Description-Matching-master\")"
   ]
  },
  {
   "cell_type": "code",
   "execution_count": 62,
   "metadata": {},
   "outputs": [],
   "source": [
    "# -*- coding: utf-8 -*-\n",
    "\"\"\"\n",
    "Created on Sat May 06 22:00:52 2017\n",
    "\n",
    "@author: binoy\n",
    "\"\"\"\n",
    "\n",
    "import sys\n",
    "from pdfminer.pdfinterp import PDFResourceManager, PDFPageInterpreter\n",
    "from pdfminer.pdfpage import PDFPage\n",
    "from pdfminer.converter import XMLConverter, HTMLConverter, TextConverter\n",
    "from pdfminer.layout import LAParams\n",
    "#from cStringIO import StringIO\n",
    "from io import StringIO\n",
    "def pdfparser(data):\n",
    "\n",
    "    fp = open(data, 'rb')\n",
    "    rsrcmgr = PDFResourceManager()\n",
    "    retstr = StringIO()\n",
    "    codec = 'utf-8'\n",
    "    laparams = LAParams()\n",
    "    device = TextConverter(rsrcmgr, retstr, laparams=laparams)\n",
    "    # removed from the line above: , codec=codec\n",
    "    # Create a PDF interpreter object.\n",
    "    interpreter = PDFPageInterpreter(rsrcmgr, device)\n",
    "    # Process each page contained in the document.\n",
    "\n",
    "    for page in PDFPage.get_pages(fp):\n",
    "        interpreter.process_page(page)\n",
    "        data =  retstr.getvalue()\n",
    "\n",
    "    return data\n",
    "    \n",
    "with open('resumeconverted.txt','w') as f:\n",
    "    f.write(pdfparser('Sherry Khansari.pdf'))"
   ]
  },
  {
   "cell_type": "markdown",
   "metadata": {},
   "source": [
    "### Import input data file for jobs"
   ]
  },
  {
   "cell_type": "code",
   "execution_count": 63,
   "metadata": {},
   "outputs": [],
   "source": [
    "import pandas as pd\n",
    "import math"
   ]
  },
  {
   "cell_type": "code",
   "execution_count": 64,
   "metadata": {},
   "outputs": [
    {
     "data": {
      "text/html": [
       "<div>\n",
       "<style scoped>\n",
       "    .dataframe tbody tr th:only-of-type {\n",
       "        vertical-align: middle;\n",
       "    }\n",
       "\n",
       "    .dataframe tbody tr th {\n",
       "        vertical-align: top;\n",
       "    }\n",
       "\n",
       "    .dataframe thead th {\n",
       "        text-align: right;\n",
       "    }\n",
       "</style>\n",
       "<table border=\"1\" class=\"dataframe\">\n",
       "  <thead>\n",
       "    <tr style=\"text-align: right;\">\n",
       "      <th></th>\n",
       "      <th>Job No.</th>\n",
       "      <th>company</th>\n",
       "      <th>position</th>\n",
       "      <th>url</th>\n",
       "      <th>location</th>\n",
       "      <th>headquaters</th>\n",
       "      <th>employees</th>\n",
       "      <th>founded</th>\n",
       "      <th>industry</th>\n",
       "      <th>Job Description</th>\n",
       "    </tr>\n",
       "  </thead>\n",
       "  <tbody>\n",
       "    <tr>\n",
       "      <td>0</td>\n",
       "      <td>1</td>\n",
       "      <td>Visual BI Solutions Inc</td>\n",
       "      <td>Graduate Intern (Summer 2017) - SAP BI / Big D...</td>\n",
       "      <td>https://www.glassdoor.com/partner/jobListing.h...</td>\n",
       "      <td>Plano, TX</td>\n",
       "      <td>Plano, TX</td>\n",
       "      <td>51 to 200 employees</td>\n",
       "      <td>2010</td>\n",
       "      <td>Information Technology</td>\n",
       "      <td>Location: Plano, TX or Oklahoma City, OK Dura...</td>\n",
       "    </tr>\n",
       "    <tr>\n",
       "      <td>1</td>\n",
       "      <td>2</td>\n",
       "      <td>Jobvertise</td>\n",
       "      <td>Digital Marketing Manager</td>\n",
       "      <td>https://www.glassdoor.com/partner/jobListing.h...</td>\n",
       "      <td>Dallas, TX</td>\n",
       "      <td>Berlin, Germany</td>\n",
       "      <td>1 to 50 employees</td>\n",
       "      <td>2011</td>\n",
       "      <td>Unknown</td>\n",
       "      <td>The Digital Marketing Manager is the front li...</td>\n",
       "    </tr>\n",
       "    <tr>\n",
       "      <td>2</td>\n",
       "      <td>3</td>\n",
       "      <td>Santander Consumer USA</td>\n",
       "      <td>Manager, Pricing Management Information Systems</td>\n",
       "      <td>https://www.glassdoor.com/partner/jobListing.h...</td>\n",
       "      <td>Dallas, TX</td>\n",
       "      <td>Dallas, TX</td>\n",
       "      <td>5001 to 10000 employees</td>\n",
       "      <td>1995</td>\n",
       "      <td>Finance</td>\n",
       "      <td>Summary of Responsibilities:The Manager Prici...</td>\n",
       "    </tr>\n",
       "    <tr>\n",
       "      <td>3</td>\n",
       "      <td>4</td>\n",
       "      <td>Federal Reserve Bank of Dallas</td>\n",
       "      <td>Treasury Services Analyst Internship</td>\n",
       "      <td>https://www.glassdoor.com/partner/jobListing.h...</td>\n",
       "      <td>Dallas, TX</td>\n",
       "      <td>Dallas, TX</td>\n",
       "      <td>1001 to 5000 employees</td>\n",
       "      <td>1914</td>\n",
       "      <td>Finance</td>\n",
       "      <td>ORGANIZATIONAL SUMMARY:   As part of the nati...</td>\n",
       "    </tr>\n",
       "    <tr>\n",
       "      <td>4</td>\n",
       "      <td>5</td>\n",
       "      <td>Aviall</td>\n",
       "      <td>Intern, Sales Analyst</td>\n",
       "      <td>https://www.glassdoor.com/partner/jobListing.h...</td>\n",
       "      <td>Dallas, TX</td>\n",
       "      <td>Dallas, TX</td>\n",
       "      <td>1001 to 5000 employees</td>\n",
       "      <td>Boeing</td>\n",
       "      <td>Subsidiary or Business Segment</td>\n",
       "      <td>Aviall is the world's largest provider of n...</td>\n",
       "    </tr>\n",
       "  </tbody>\n",
       "</table>\n",
       "</div>"
      ],
      "text/plain": [
       "   Job No.                          company  \\\n",
       "0        1          Visual BI Solutions Inc   \n",
       "1        2                       Jobvertise   \n",
       "2        3           Santander Consumer USA   \n",
       "3        4   Federal Reserve Bank of Dallas   \n",
       "4        5                           Aviall   \n",
       "\n",
       "                                            position  \\\n",
       "0  Graduate Intern (Summer 2017) - SAP BI / Big D...   \n",
       "1                          Digital Marketing Manager   \n",
       "2    Manager, Pricing Management Information Systems   \n",
       "3               Treasury Services Analyst Internship   \n",
       "4                              Intern, Sales Analyst   \n",
       "\n",
       "                                                 url     location  \\\n",
       "0  https://www.glassdoor.com/partner/jobListing.h...    Plano, TX   \n",
       "1  https://www.glassdoor.com/partner/jobListing.h...   Dallas, TX   \n",
       "2  https://www.glassdoor.com/partner/jobListing.h...   Dallas, TX   \n",
       "3  https://www.glassdoor.com/partner/jobListing.h...   Dallas, TX   \n",
       "4  https://www.glassdoor.com/partner/jobListing.h...   Dallas, TX   \n",
       "\n",
       "       headquaters                employees founded  \\\n",
       "0        Plano, TX      51 to 200 employees    2010   \n",
       "1  Berlin, Germany        1 to 50 employees    2011   \n",
       "2       Dallas, TX  5001 to 10000 employees    1995   \n",
       "3       Dallas, TX   1001 to 5000 employees    1914   \n",
       "4       Dallas, TX   1001 to 5000 employees  Boeing   \n",
       "\n",
       "                         industry  \\\n",
       "0          Information Technology   \n",
       "1                         Unknown   \n",
       "2                         Finance   \n",
       "3                         Finance   \n",
       "4  Subsidiary or Business Segment   \n",
       "\n",
       "                                     Job Description  \n",
       "0   Location: Plano, TX or Oklahoma City, OK Dura...  \n",
       "1   The Digital Marketing Manager is the front li...  \n",
       "2   Summary of Responsibilities:The Manager Prici...  \n",
       "3   ORGANIZATIONAL SUMMARY:   As part of the nati...  \n",
       "4     Aviall is the world's largest provider of n...  "
      ]
     },
     "execution_count": 64,
     "metadata": {},
     "output_type": "execute_result"
    }
   ],
   "source": [
    "df = pd.read_csv(\"data.csv\")\n",
    "df.rename(columns = {'Unnamed: 0':'Job No.'}, inplace = True) \n",
    "df.head()"
   ]
  },
  {
   "cell_type": "markdown",
   "metadata": {},
   "source": [
    "### Data exploration"
   ]
  },
  {
   "cell_type": "code",
   "execution_count": null,
   "metadata": {},
   "outputs": [],
   "source": []
  },
  {
   "cell_type": "markdown",
   "metadata": {},
   "source": [
    "### Converting job title, description, and company name to list\n"
   ]
  },
  {
   "cell_type": "code",
   "execution_count": 65,
   "metadata": {},
   "outputs": [],
   "source": [
    "jd = df['Job Description'].tolist()\n",
    "companies = df['company'].tolist()\n",
    "positions = df['position'].tolist()\n",
    "\n"
   ]
  },
  {
   "cell_type": "markdown",
   "metadata": {},
   "source": [
    "#### Building the models"
   ]
  },
  {
   "cell_type": "markdown",
   "metadata": {},
   "source": [
    "##### CountVectorizer Class"
   ]
  },
  {
   "cell_type": "code",
   "execution_count": 66,
   "metadata": {},
   "outputs": [
    {
     "data": {
      "text/plain": [
       "['__add__',\n",
       " '__class__',\n",
       " '__contains__',\n",
       " '__delattr__',\n",
       " '__dir__',\n",
       " '__doc__',\n",
       " '__eq__',\n",
       " '__format__',\n",
       " '__ge__',\n",
       " '__getattribute__',\n",
       " '__getitem__',\n",
       " '__getnewargs__',\n",
       " '__gt__',\n",
       " '__hash__',\n",
       " '__init__',\n",
       " '__init_subclass__',\n",
       " '__iter__',\n",
       " '__le__',\n",
       " '__len__',\n",
       " '__lt__',\n",
       " '__mod__',\n",
       " '__mul__',\n",
       " '__ne__',\n",
       " '__new__',\n",
       " '__reduce__',\n",
       " '__reduce_ex__',\n",
       " '__repr__',\n",
       " '__rmod__',\n",
       " '__rmul__',\n",
       " '__setattr__',\n",
       " '__sizeof__',\n",
       " '__str__',\n",
       " '__subclasshook__',\n",
       " 'capitalize',\n",
       " 'casefold',\n",
       " 'center',\n",
       " 'count',\n",
       " 'encode',\n",
       " 'endswith',\n",
       " 'expandtabs',\n",
       " 'find',\n",
       " 'format',\n",
       " 'format_map',\n",
       " 'index',\n",
       " 'isalnum',\n",
       " 'isalpha',\n",
       " 'isascii',\n",
       " 'isdecimal',\n",
       " 'isdigit',\n",
       " 'isidentifier',\n",
       " 'islower',\n",
       " 'isnumeric',\n",
       " 'isprintable',\n",
       " 'isspace',\n",
       " 'istitle',\n",
       " 'isupper',\n",
       " 'join',\n",
       " 'ljust',\n",
       " 'lower',\n",
       " 'lstrip',\n",
       " 'maketrans',\n",
       " 'partition',\n",
       " 'replace',\n",
       " 'rfind',\n",
       " 'rindex',\n",
       " 'rjust',\n",
       " 'rpartition',\n",
       " 'rsplit',\n",
       " 'rstrip',\n",
       " 'split',\n",
       " 'splitlines',\n",
       " 'startswith',\n",
       " 'strip',\n",
       " 'swapcase',\n",
       " 'title',\n",
       " 'translate',\n",
       " 'upper',\n",
       " 'zfill']"
      ]
     },
     "execution_count": 66,
     "metadata": {},
     "output_type": "execute_result"
    }
   ],
   "source": [
    "dir(str)"
   ]
  },
  {
   "cell_type": "markdown",
   "metadata": {},
   "source": [
    "##### Not sure about str.rstrip"
   ]
  },
  {
   "cell_type": "code",
   "execution_count": 67,
   "metadata": {},
   "outputs": [],
   "source": [
    "class MyCountVectorizer:\n",
    "    def __init__(self, docs):\n",
    "        self.corpus = self.normalize_corpus(docs)\n",
    "        self.make_features()\n",
    "        self.make_matrix()\n",
    "        \n",
    "    def normalize_corpus(self, docs):    \n",
    "        #table = string.maketrans(string.punctuation, \n",
    "         #                        len(string.punctuation) * ' ')\n",
    "        \n",
    "        table = str.rstrip(string.punctuation, \n",
    "                                 len(string.punctuation) * ' ')\n",
    "        \n",
    "        norm_docs = []\n",
    "        for doc_raw in docs:\n",
    "            doc = filter(lambda x: x in string.printable, doc_raw)\n",
    "            '''\n",
    "            doc = ''\n",
    "            for x in doc_raw:\n",
    "                if x in string.printable:\n",
    "                    doc += x\n",
    "            '''\n",
    "            doc = str(doc).translate(table).lower()\n",
    "            norm_docs.append(doc)\n",
    "        #self.corpus = norm_docs\n",
    "        return norm_docs\n",
    "        \n",
    "    def make_features(self):\n",
    "        ''' create vocabulary set from the corpus '''\n",
    "        stopwords = nltk.corpus.stopwords.words('english')\n",
    "        self.features = set()\n",
    "        for doc in self.corpus:\n",
    "            for word in doc.split():\n",
    "                if word not in stopwords:\n",
    "                    self.features.add(word)\n",
    "        #self.features = set([word for doc in self.corpus for word in doc.split() if word not in stopwords])\n",
    "        self.features = sorted(list(self.features))\n",
    "\n",
    "    def make_matrix(self):\n",
    "        self.matrix = []\n",
    "        for doc in self.corpus:\n",
    "            doc_vec = []\n",
    "            for word in self.features:\n",
    "                tf = self.term_freq(word, doc)\n",
    "                doc_vec.append(tf)\n",
    "            self.matrix.append(doc_vec)\n",
    "\n",
    "    def term_freq(self, term, document):\n",
    "        words = document.split()\n",
    "        count = 0\n",
    "        for word in words:\n",
    "            if word == term:\n",
    "                count += 1\n",
    "        return count\n",
    "    \n",
    "    def print_matrix(self):\n",
    "        for vec in self.matrix:\n",
    "            print(vec)\n",
    "\n",
    "    def get_matrix(self):\n",
    "        return self.matrix\n",
    "    \n",
    "    def get_features(self):\n",
    "        return self.features\n",
    "    \n",
    "    def get_density(self):\n",
    "        ''' get the density (# of non-zero elements / # all elements )'''\n",
    "        counter = 0\n",
    "        total = 0\n",
    "        for row in self.matrix:\n",
    "            for item in row:\n",
    "                if item != 0:\n",
    "                    counter += 1\n",
    "                total += 1\n",
    "        return 1.0 * counter / total"
   ]
  },
  {
   "cell_type": "markdown",
   "metadata": {},
   "source": [
    "##### TFIDF Vectorizer"
   ]
  },
  {
   "cell_type": "code",
   "execution_count": 68,
   "metadata": {},
   "outputs": [],
   "source": [
    "class MyTfIdfVectorizer(MyCountVectorizer):\n",
    "    ''' inherits from MyCountVectorizer'''\n",
    "\n",
    "    def make_matrix(self):\n",
    "        'overriding method'\n",
    "        self.matrix = []\n",
    "        for doc in self.corpus:\n",
    "            doc_vec = []\n",
    "            for word in self.features:\n",
    "                tf = self.term_freq(word, doc)\n",
    "                idf = self.inverse_document_freq(word)\n",
    "                doc_vec.append(tf * idf)\n",
    "            #self.matrix.append(doc_vec)\n",
    "            total = sum(doc_vec)\n",
    "            doc_vec_norm = [i/total for i in doc_vec]\n",
    "            self.matrix.append(doc_vec_norm)\n",
    "\n",
    "    def inverse_document_freq(self, term):\n",
    "        doc_count = 0\n",
    "        for document in self.corpus:\n",
    "            term_count = self.term_freq(term, document)\n",
    "            if term_count > 0:\n",
    "                doc_count += 1\n",
    "        return math.log( 1.0 * len(self.corpus) / doc_count)"
   ]
  },
  {
   "cell_type": "markdown",
   "metadata": {},
   "source": [
    "##### Plotting"
   ]
  },
  {
   "cell_type": "code",
   "execution_count": 69,
   "metadata": {},
   "outputs": [],
   "source": [
    "def plot_mds(mean_vec):   \n",
    "   from sklearn.manifold import MDS\n",
    "    \n",
    "   data = mean_vec\n",
    "   mds = MDS(n_components=2, random_state=1)\n",
    "   pos = mds.fit_transform(data)\n",
    "   xs,ys = pos[:,0], pos[:,1]\n",
    "   for x, y in zip(xs, ys):\n",
    "       plt.scatter(x, y)\n",
    "    #    plt.text(x, y, name)\n",
    "    #pos2 = mds.fit_transform(model.infer_vector(resume))\n",
    "    #xs2,ys2 = pos2[:,0], pos2[:,1]\n",
    "   plt.scatter(xs[-1], ys[-1], c='Red', marker='+')\n",
    "   plt.text(xs[-1], ys[-1],'resume')\n",
    "   plt.suptitle('MDS')\n",
    "   plt.grid()\n",
    "   plt.savefig('distance_MDS_improved.png')\n",
    "   plt.show()\n",
    "\n",
    "def plot_pca(meav_vec):\n",
    "    from sklearn.decomposition import PCA\n",
    "    data = mean_vec\n",
    "    pca = PCA(n_components=2) #, whiten=True\n",
    "    X = pca.fit_transform(data)\n",
    "    xs,ys =X[:,0], X[:,1]\n",
    "    plt.scatter(X[:,0], X[:,1])\n",
    "    plt.scatter(xs[-1], ys[-1], c='Red', marker='+')\n",
    "    plt.text(xs[-1], ys[-1],'resume')\n",
    "    plt.grid()\n",
    "    plt.suptitle('PCA')\n",
    "    plt.savefig('distance_PCA_improved.png')\n",
    "    plt.show()"
   ]
  },
  {
   "cell_type": "markdown",
   "metadata": {},
   "source": [
    "##### Open the resume that has been converted to text and add it to the dataset"
   ]
  },
  {
   "cell_type": "code",
   "execution_count": 70,
   "metadata": {},
   "outputs": [],
   "source": [
    "with open('resumeconverted.txt','r') as f:\n",
    "    resume = f.read()\n",
    "jd.append(resume)\n",
    "myvec = MyTfIdfVectorizer(jd)"
   ]
  },
  {
   "cell_type": "code",
   "execution_count": 71,
   "metadata": {},
   "outputs": [
    {
     "data": {
      "text/plain": [
       "<__main__.MyTfIdfVectorizer at 0x25c12d69608>"
      ]
     },
     "execution_count": 71,
     "metadata": {},
     "output_type": "execute_result"
    }
   ],
   "source": [
    "myvec"
   ]
  },
  {
   "cell_type": "code",
   "execution_count": null,
   "metadata": {},
   "outputs": [],
   "source": []
  },
  {
   "cell_type": "code",
   "execution_count": 73,
   "metadata": {},
   "outputs": [],
   "source": [
    "\n",
    "\n",
    "# Logging code taken from http://rare-technologies.com/word2vec-tutorial/\n",
    "logging.basicConfig(\n",
    "    format='%(asctime)s : %(levelname)s : %(message)s', \n",
    "    level=logging.INFO)"
   ]
  },
  {
   "cell_type": "markdown",
   "metadata": {},
   "source": [
    "#### Build the model"
   ]
  },
  {
   "cell_type": "code",
   "execution_count": 81,
   "metadata": {},
   "outputs": [
    {
     "name": "stderr",
     "output_type": "stream",
     "text": [
      "2020-01-22 16:05:20,320 : INFO : loading projection weights from GoogleNews-vectors-negative300.bin\n"
     ]
    },
    {
     "ename": "FileNotFoundError",
     "evalue": "[Errno 2] No such file or directory: 'GoogleNews-vectors-negative300.bin'",
     "output_type": "error",
     "traceback": [
      "\u001b[1;31m---------------------------------------------------------------------------\u001b[0m",
      "\u001b[1;31mFileNotFoundError\u001b[0m                         Traceback (most recent call last)",
      "\u001b[1;32m<ipython-input-81-81795ceb5cd5>\u001b[0m in \u001b[0;36m<module>\u001b[1;34m\u001b[0m\n\u001b[1;32m----> 1\u001b[1;33m \u001b[0mmodel\u001b[0m \u001b[1;33m=\u001b[0m \u001b[0mgensim\u001b[0m\u001b[1;33m.\u001b[0m\u001b[0mmodels\u001b[0m\u001b[1;33m.\u001b[0m\u001b[0mKeyedVectors\u001b[0m\u001b[1;33m.\u001b[0m\u001b[0mload_word2vec_format\u001b[0m\u001b[1;33m(\u001b[0m\u001b[1;34m'GoogleNews-vectors-negative300.bin'\u001b[0m\u001b[1;33m,\u001b[0m \u001b[0mbinary\u001b[0m\u001b[1;33m=\u001b[0m\u001b[1;32mTrue\u001b[0m\u001b[1;33m)\u001b[0m\u001b[1;33m\u001b[0m\u001b[1;33m\u001b[0m\u001b[0m\n\u001b[0m",
      "\u001b[1;32m~\\AppData\\Local\\Continuum\\anaconda3\\lib\\site-packages\\gensim\\models\\keyedvectors.py\u001b[0m in \u001b[0;36mload_word2vec_format\u001b[1;34m(cls, fname, fvocab, binary, encoding, unicode_errors, limit, datatype)\u001b[0m\n\u001b[0;32m   1496\u001b[0m         return _load_word2vec_format(\n\u001b[0;32m   1497\u001b[0m             \u001b[0mcls\u001b[0m\u001b[1;33m,\u001b[0m \u001b[0mfname\u001b[0m\u001b[1;33m,\u001b[0m \u001b[0mfvocab\u001b[0m\u001b[1;33m=\u001b[0m\u001b[0mfvocab\u001b[0m\u001b[1;33m,\u001b[0m \u001b[0mbinary\u001b[0m\u001b[1;33m=\u001b[0m\u001b[0mbinary\u001b[0m\u001b[1;33m,\u001b[0m \u001b[0mencoding\u001b[0m\u001b[1;33m=\u001b[0m\u001b[0mencoding\u001b[0m\u001b[1;33m,\u001b[0m \u001b[0municode_errors\u001b[0m\u001b[1;33m=\u001b[0m\u001b[0municode_errors\u001b[0m\u001b[1;33m,\u001b[0m\u001b[1;33m\u001b[0m\u001b[1;33m\u001b[0m\u001b[0m\n\u001b[1;32m-> 1498\u001b[1;33m             limit=limit, datatype=datatype)\n\u001b[0m\u001b[0;32m   1499\u001b[0m \u001b[1;33m\u001b[0m\u001b[0m\n\u001b[0;32m   1500\u001b[0m     \u001b[1;32mdef\u001b[0m \u001b[0mget_keras_embedding\u001b[0m\u001b[1;33m(\u001b[0m\u001b[0mself\u001b[0m\u001b[1;33m,\u001b[0m \u001b[0mtrain_embeddings\u001b[0m\u001b[1;33m=\u001b[0m\u001b[1;32mFalse\u001b[0m\u001b[1;33m)\u001b[0m\u001b[1;33m:\u001b[0m\u001b[1;33m\u001b[0m\u001b[1;33m\u001b[0m\u001b[0m\n",
      "\u001b[1;32m~\\AppData\\Local\\Continuum\\anaconda3\\lib\\site-packages\\gensim\\models\\utils_any2vec.py\u001b[0m in \u001b[0;36m_load_word2vec_format\u001b[1;34m(cls, fname, fvocab, binary, encoding, unicode_errors, limit, datatype)\u001b[0m\n\u001b[0;32m    340\u001b[0m \u001b[1;33m\u001b[0m\u001b[0m\n\u001b[0;32m    341\u001b[0m     \u001b[0mlogger\u001b[0m\u001b[1;33m.\u001b[0m\u001b[0minfo\u001b[0m\u001b[1;33m(\u001b[0m\u001b[1;34m\"loading projection weights from %s\"\u001b[0m\u001b[1;33m,\u001b[0m \u001b[0mfname\u001b[0m\u001b[1;33m)\u001b[0m\u001b[1;33m\u001b[0m\u001b[1;33m\u001b[0m\u001b[0m\n\u001b[1;32m--> 342\u001b[1;33m     \u001b[1;32mwith\u001b[0m \u001b[0mutils\u001b[0m\u001b[1;33m.\u001b[0m\u001b[0mopen\u001b[0m\u001b[1;33m(\u001b[0m\u001b[0mfname\u001b[0m\u001b[1;33m,\u001b[0m \u001b[1;34m'rb'\u001b[0m\u001b[1;33m)\u001b[0m \u001b[1;32mas\u001b[0m \u001b[0mfin\u001b[0m\u001b[1;33m:\u001b[0m\u001b[1;33m\u001b[0m\u001b[1;33m\u001b[0m\u001b[0m\n\u001b[0m\u001b[0;32m    343\u001b[0m         \u001b[0mheader\u001b[0m \u001b[1;33m=\u001b[0m \u001b[0mutils\u001b[0m\u001b[1;33m.\u001b[0m\u001b[0mto_unicode\u001b[0m\u001b[1;33m(\u001b[0m\u001b[0mfin\u001b[0m\u001b[1;33m.\u001b[0m\u001b[0mreadline\u001b[0m\u001b[1;33m(\u001b[0m\u001b[1;33m)\u001b[0m\u001b[1;33m,\u001b[0m \u001b[0mencoding\u001b[0m\u001b[1;33m=\u001b[0m\u001b[0mencoding\u001b[0m\u001b[1;33m)\u001b[0m\u001b[1;33m\u001b[0m\u001b[1;33m\u001b[0m\u001b[0m\n\u001b[0;32m    344\u001b[0m         \u001b[0mvocab_size\u001b[0m\u001b[1;33m,\u001b[0m \u001b[0mvector_size\u001b[0m \u001b[1;33m=\u001b[0m \u001b[1;33m(\u001b[0m\u001b[0mint\u001b[0m\u001b[1;33m(\u001b[0m\u001b[0mx\u001b[0m\u001b[1;33m)\u001b[0m \u001b[1;32mfor\u001b[0m \u001b[0mx\u001b[0m \u001b[1;32min\u001b[0m \u001b[0mheader\u001b[0m\u001b[1;33m.\u001b[0m\u001b[0msplit\u001b[0m\u001b[1;33m(\u001b[0m\u001b[1;33m)\u001b[0m\u001b[1;33m)\u001b[0m  \u001b[1;31m# throws for invalid file format\u001b[0m\u001b[1;33m\u001b[0m\u001b[1;33m\u001b[0m\u001b[0m\n",
      "\u001b[1;32m~\\AppData\\Local\\Continuum\\anaconda3\\lib\\site-packages\\smart_open\\smart_open_lib.py\u001b[0m in \u001b[0;36mopen\u001b[1;34m(uri, mode, buffering, encoding, errors, newline, closefd, opener, ignore_ext, transport_params)\u001b[0m\n\u001b[0;32m    306\u001b[0m         \u001b[0mbuffering\u001b[0m\u001b[1;33m=\u001b[0m\u001b[0mbuffering\u001b[0m\u001b[1;33m,\u001b[0m\u001b[1;33m\u001b[0m\u001b[1;33m\u001b[0m\u001b[0m\n\u001b[0;32m    307\u001b[0m         \u001b[0mencoding\u001b[0m\u001b[1;33m=\u001b[0m\u001b[0mencoding\u001b[0m\u001b[1;33m,\u001b[0m\u001b[1;33m\u001b[0m\u001b[1;33m\u001b[0m\u001b[0m\n\u001b[1;32m--> 308\u001b[1;33m         \u001b[0merrors\u001b[0m\u001b[1;33m=\u001b[0m\u001b[0merrors\u001b[0m\u001b[1;33m,\u001b[0m\u001b[1;33m\u001b[0m\u001b[1;33m\u001b[0m\u001b[0m\n\u001b[0m\u001b[0;32m    309\u001b[0m     )\n\u001b[0;32m    310\u001b[0m     \u001b[1;32mif\u001b[0m \u001b[0mfobj\u001b[0m \u001b[1;32mis\u001b[0m \u001b[1;32mnot\u001b[0m \u001b[1;32mNone\u001b[0m\u001b[1;33m:\u001b[0m\u001b[1;33m\u001b[0m\u001b[1;33m\u001b[0m\u001b[0m\n",
      "\u001b[1;32m~\\AppData\\Local\\Continuum\\anaconda3\\lib\\site-packages\\smart_open\\smart_open_lib.py\u001b[0m in \u001b[0;36m_shortcut_open\u001b[1;34m(uri, mode, ignore_ext, buffering, encoding, errors)\u001b[0m\n\u001b[0;32m    515\u001b[0m     \u001b[1;31m#\u001b[0m\u001b[1;33m\u001b[0m\u001b[1;33m\u001b[0m\u001b[1;33m\u001b[0m\u001b[0m\n\u001b[0;32m    516\u001b[0m     \u001b[1;32mif\u001b[0m \u001b[0msix\u001b[0m\u001b[1;33m.\u001b[0m\u001b[0mPY3\u001b[0m\u001b[1;33m:\u001b[0m\u001b[1;33m\u001b[0m\u001b[1;33m\u001b[0m\u001b[0m\n\u001b[1;32m--> 517\u001b[1;33m         \u001b[1;32mreturn\u001b[0m \u001b[0m_builtin_open\u001b[0m\u001b[1;33m(\u001b[0m\u001b[0mparsed_uri\u001b[0m\u001b[1;33m.\u001b[0m\u001b[0muri_path\u001b[0m\u001b[1;33m,\u001b[0m \u001b[0mmode\u001b[0m\u001b[1;33m,\u001b[0m \u001b[0mbuffering\u001b[0m\u001b[1;33m=\u001b[0m\u001b[0mbuffering\u001b[0m\u001b[1;33m,\u001b[0m \u001b[1;33m**\u001b[0m\u001b[0mopen_kwargs\u001b[0m\u001b[1;33m)\u001b[0m\u001b[1;33m\u001b[0m\u001b[1;33m\u001b[0m\u001b[0m\n\u001b[0m\u001b[0;32m    518\u001b[0m     \u001b[1;32melif\u001b[0m \u001b[1;32mnot\u001b[0m \u001b[0mopen_kwargs\u001b[0m\u001b[1;33m:\u001b[0m\u001b[1;33m\u001b[0m\u001b[1;33m\u001b[0m\u001b[0m\n\u001b[0;32m    519\u001b[0m         \u001b[1;32mreturn\u001b[0m \u001b[0m_builtin_open\u001b[0m\u001b[1;33m(\u001b[0m\u001b[0mparsed_uri\u001b[0m\u001b[1;33m.\u001b[0m\u001b[0muri_path\u001b[0m\u001b[1;33m,\u001b[0m \u001b[0mmode\u001b[0m\u001b[1;33m,\u001b[0m \u001b[0mbuffering\u001b[0m\u001b[1;33m=\u001b[0m\u001b[0mbuffering\u001b[0m\u001b[1;33m)\u001b[0m\u001b[1;33m\u001b[0m\u001b[1;33m\u001b[0m\u001b[0m\n",
      "\u001b[1;31mFileNotFoundError\u001b[0m: [Errno 2] No such file or directory: 'GoogleNews-vectors-negative300.bin'"
     ]
    }
   ],
   "source": [
    "model = gensim.models.KeyedVectors.load_word2vec_format('GoogleNews-vectors-negative300.bin', binary=True)"
   ]
  },
  {
   "cell_type": "code",
   "execution_count": 84,
   "metadata": {},
   "outputs": [
    {
     "ename": "SyntaxError",
     "evalue": "invalid syntax (<ipython-input-84-2b6c03147a35>, line 3)",
     "output_type": "error",
     "traceback": [
      "\u001b[1;36m  File \u001b[1;32m\"<ipython-input-84-2b6c03147a35>\"\u001b[1;36m, line \u001b[1;32m3\u001b[0m\n\u001b[1;33m    wget -c \"https://s3.amazonaws.com/dl4j-distribution/GoogleNews-vectors-negative300.bin.gz\"\u001b[0m\n\u001b[1;37m                                                                                             ^\u001b[0m\n\u001b[1;31mSyntaxError\u001b[0m\u001b[1;31m:\u001b[0m invalid syntax\n"
     ]
    }
   ],
   "source": [
    "import wget\n",
    "\n",
    "wget -c \"https://s3.amazonaws.com/dl4j-distribution/GoogleNews-vectors-negative300.bin.gz\"\n",
    "\n",
    "from gensim import models\n",
    "\n",
    "w = models.KeyedVectors.load_word2vec_format(\n",
    "    '../GoogleNews-vectors-negative300.bin', binary=True)"
   ]
  },
  {
   "cell_type": "code",
   "execution_count": 85,
   "metadata": {},
   "outputs": [
    {
     "name": "stderr",
     "output_type": "stream",
     "text": [
      "2020-01-22 16:08:08,305 : INFO : Creating C:\\Users\\khans/gensim-data\n"
     ]
    },
    {
     "name": "stdout",
     "output_type": "stream",
     "text": [
      "[==================================================] 100.0% 1662.8/1662.8MB downloaded\n"
     ]
    },
    {
     "name": "stderr",
     "output_type": "stream",
     "text": [
      "2020-01-22 17:00:24,012 : INFO : word2vec-google-news-300 downloaded\n",
      "2020-01-22 17:00:24,039 : INFO : loading projection weights from C:\\Users\\khans/gensim-data\\word2vec-google-news-300\\word2vec-google-news-300.gz\n",
      "2020-01-22 17:03:05,836 : INFO : loaded (3000000, 300) matrix from C:\\Users\\khans/gensim-data\\word2vec-google-news-300\\word2vec-google-news-300.gz\n"
     ]
    }
   ],
   "source": [
    "import gensim.downloader as api\n",
    "\n",
    "wv = api.load('word2vec-google-news-300')"
   ]
  },
  {
   "cell_type": "code",
   "execution_count": 97,
   "metadata": {},
   "outputs": [],
   "source": [
    "model = wv"
   ]
  },
  {
   "cell_type": "code",
   "execution_count": 94,
   "metadata": {},
   "outputs": [
    {
     "name": "stderr",
     "output_type": "stream",
     "text": [
      "C:\\Users\\khans\\AppData\\Local\\Continuum\\anaconda3\\lib\\site-packages\\ipykernel_launcher.py:1: DeprecationWarning: Call to deprecated `wv` (Attribute will be removed in 4.0.0, use self instead).\n",
      "  \"\"\"Entry point for launching an IPython kernel.\n"
     ]
    }
   ],
   "source": [
    "word_vectors = model.wv"
   ]
  },
  {
   "cell_type": "code",
   "execution_count": 95,
   "metadata": {},
   "outputs": [
    {
     "data": {
      "text/plain": [
       "<gensim.models.keyedvectors.Word2VecKeyedVectors at 0x25c1c831608>"
      ]
     },
     "execution_count": 95,
     "metadata": {},
     "output_type": "execute_result"
    }
   ],
   "source": [
    "word_vectors"
   ]
  },
  {
   "cell_type": "code",
   "execution_count": null,
   "metadata": {},
   "outputs": [],
   "source": [
    "#import gensim.downloader as api\n",
    "\n",
    "#model = api.load(\"word2vec-google-news-300\")  # download the model and return as object ready for use\n",
    "#word_vectors = model.wv #load the vectors from the model"
   ]
  },
  {
   "cell_type": "code",
   "execution_count": null,
   "metadata": {},
   "outputs": [],
   "source": [
    "from gensim.models.word2vec import Word2Vec\n",
    "model = Word2Vec.load_word2vec_format('GoogleNews-vectors-negative300.bin', binary=True)\n",
    "model.save_word2vec_format('googlenews2.txt')"
   ]
  },
  {
   "cell_type": "code",
   "execution_count": 100,
   "metadata": {},
   "outputs": [],
   "source": [
    "stopwords = nltk.corpus.stopwords.words('english')\n",
    "\n",
    "imp = ['java']\n",
    "vec = []\n",
    "\n",
    "for j in jd:\n",
    "    x = j.translate(str.maketrans('', '', string.punctuation))\n",
    "    y = x.translate(str.maketrans('', '', string.digits))\n",
    "    jd_vector = []\n",
    "    i = 0\n",
    "    \n",
    "    for word in y.split():\n",
    "        if word.lower() not in stopwords and len(word)>1 and word not in imp:\n",
    "            try:\n",
    "                x = model[word]\n",
    "                idx = myvec.get_features().index(word)\n",
    "                z = myvec.get_matrix()[i][idx]\n",
    "                lst = [a * z for a in x]\n",
    "                jd_vector.append(lst)\n",
    "            except:\n",
    "                continue\n",
    "    \n",
    "        else:\n",
    "            try:\n",
    "                x = model[word]\n",
    "                lst = [a * 2 for a in x]\n",
    "                jd_vector.append(lst)\n",
    "            except:\n",
    "                continue\n",
    "    i+=1\n",
    "    vec.append(jd_vector)\n"
   ]
  },
  {
   "cell_type": "code",
   "execution_count": 101,
   "metadata": {},
   "outputs": [
    {
     "data": {
      "image/png": "[encoded data removed]",
      "text/plain": [
       "<Figure size 432x288 with 1 Axes>"
      ]
     },
     "metadata": {
      "needs_background": "light"
     },
     "output_type": "display_data"
    },
    {
     "data": {
      "image/png": "[encoded data removed]",
      "text/plain": [
       "<Figure size 432x288 with 1 Axes>"
      ]
     },
     "metadata": {
      "needs_background": "light"
     },
     "output_type": "display_data"
    }
   ],
   "source": [
    "mean_vec = []\n",
    "for j in vec:\n",
    "    mean = []\n",
    "    for i in range(300):\n",
    "        accum =0\n",
    "        for word in j:\n",
    "            accum += word[i]\n",
    "        mean.append(1.0*accum/len(word))\n",
    "    mean_vec.append(mean)\n",
    "data = mean_vec\n",
    "\n",
    "plot_mds(mean_vec)\n",
    "plot_pca(mean_vec)\n",
    "        "
   ]
  },
  {
   "cell_type": "code",
   "execution_count": 107,
   "metadata": {},
   "outputs": [
    {
     "data": {
      "text/plain": [
       "158"
      ]
     },
     "execution_count": 107,
     "metadata": {},
     "output_type": "execute_result"
    }
   ],
   "source": [
    "len(data)"
   ]
  },
  {
   "cell_type": "code",
   "execution_count": 121,
   "metadata": {},
   "outputs": [
    {
     "name": "stdout",
     "output_type": "stream",
     "text": [
      "[[0.97228425]]\n"
     ]
    }
   ],
   "source": [
    "import numpy as np\n",
    "v1,v2 = [3, 45, 7, 2], [2, 54, 13, 15]\n",
    "v1 = np.array(v1)\n",
    "v2 = np.array(v2)\n",
    "v1 = v1.reshape(1,-1)\n",
    "v2 = v2.reshape(1,-1)\n",
    "print(cosine_similarity(v1,v2))"
   ]
  },
  {
   "cell_type": "code",
   "execution_count": 130,
   "metadata": {},
   "outputs": [],
   "source": [
    "from sklearn.metrics.pairwise import cosine_distances\n",
    "from sklearn.metrics.pairwise import cosine_similarity\n",
    "import numpy as np\n",
    "cos_dist =[]\n",
    "\n",
    "data[-1] = np.array(data[-1])\n",
    "data[-1] = data[-1].reshape(1,-1)\n",
    "\n",
    "for vec in data[:-1]:\n",
    "    vec = np.array(vec)\n",
    "    vec = vec.reshape(1,-1)\n",
    "    cos_dist.append(float(cosine_distances(vec,data[-1])))\n",
    "    \n",
    "\n",
    "ps = PorterStemmer()\n",
    "key_list =[]\n",
    "\n",
    "for j in jd[:-1]:\n",
    "    key = ''\n",
    "    w = set()\n",
    "    for word in keywords(j).split('\\n'):\n",
    "        w.add(ps.stem(word))\n",
    "    for x in w:\n",
    "        key += '{} '.format(x)\n",
    "    key_list.append(key)\n"
   ]
  },
  {
   "cell_type": "code",
   "execution_count": 133,
   "metadata": {},
   "outputs": [],
   "source": [
    "summary = pd.DataFrame({\n",
    "        'Company': companies,\n",
    "        'Postition': positions,\n",
    "        'Cosine Distances': cos_dist,\n",
    "        'Keywords': key_list,\n",
    "        'Job Description': jd[:-1]\n",
    "    })\n",
    "z =summary.sort_values('Cosine Distances', ascending=False)\n",
    "z.to_csv('Summaryimproved.csv',encoding=\"utf-8\")"
   ]
  },
  {
   "cell_type": "code",
   "execution_count": null,
   "metadata": {},
   "outputs": [],
   "source": []
  }
 ],
 "metadata": {
  "kernelspec": {
   "display_name": "Python 3",
   "language": "python",
   "name": "python3"
  },
  "language_info": {
   "codemirror_mode": {
    "name": "ipython",
    "version": 3
   },
   "file_extension": ".py",
   "mimetype": "text/x-python",
   "name": "python",
   "nbconvert_exporter": "python",
   "pygments_lexer": "ipython3",
   "version": "3.7.4"
  }
 },
 "nbformat": 4,
 "nbformat_minor": 2
}
